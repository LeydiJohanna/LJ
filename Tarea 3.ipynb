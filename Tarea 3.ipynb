{
 "cells": [
  {
   "cell_type": "markdown",
   "metadata": {},
   "source": [
    "# <span style=\"color:purple\"><center>Solución Tarea 3</center></span>"
   ]
  },
  {
   "cell_type": "markdown",
   "metadata": {},
   "source": [
    "**Punto 1**"
   ]
  },
  {
   "cell_type": "code",
   "execution_count": 15,
   "metadata": {},
   "outputs": [],
   "source": [
    "from datetime import datetime\n",
    "\n",
    "def calcular_edad(fecha_nacimiento):\n",
    "    \"\"\"\n",
    "    Calcula la edad de una persona a partir de su fecha de nacimiento.\n",
    "    La fecha de nacimiento debe estar en formato 'YYYY-MM-DD'.\n",
    "    \"\"\"\n",
    "    fecha_actual = datetime.today()\n",
    "    fecha_nacimiento = datetime.strptime(fecha_nacimiento, '%Y-%m-%d')\n",
    "    edad = fecha_actual.year - fecha_nacimiento.year\n",
    "    if (fecha_actual.month, fecha_actual.day) < (fecha_nacimiento.month, fecha_nacimiento.day):\n",
    "        edad -= 1\n",
    "    return edad"
   ]
  },
  {
   "cell_type": "code",
   "execution_count": 16,
   "metadata": {},
   "outputs": [
    {
     "name": "stdout",
     "output_type": "stream",
     "text": [
      "Ingresa la fecha de nacimiento en formato YYYY-MM-DD: 1980-01-01\n",
      "La edad de la persona es: 43 años\n"
     ]
    }
   ],
   "source": [
    "fecha_nacimiento = input(\"Ingresa la fecha de nacimiento en formato YYYY-MM-DD: \")\n",
    "edad = calcular_edad(fecha_nacimiento)\n",
    "print(\"La edad de la persona es:\", edad, \"años\")"
   ]
  },
  {
   "cell_type": "markdown",
   "metadata": {},
   "source": [
    "**Punto 2**"
   ]
  },
  {
   "cell_type": "code",
   "execution_count": 18,
   "metadata": {},
   "outputs": [],
   "source": [
    "import os\n",
    "\n",
    "def EscribirCentrado(texto):\n",
    "    # Obtenemos la anchura de la pantalla\n",
    "    ancho_pantalla = os.get_terminal_size().columns\n",
    "\n",
    "    # Calculamos cuántos espacios en blanco se necesitan para centrar el texto\n",
    "    espacios_blancos = (ancho_pantalla - len(texto)) // 2\n",
    "\n",
    "    # Escribimos el texto centrado en pantalla\n",
    "    print(' ' * espacios_blancos + texto)"
   ]
  },
  {
   "cell_type": "code",
   "execution_count": 26,
   "metadata": {},
   "outputs": [
    {
     "name": "stdout",
     "output_type": "stream",
     "text": [
      "Ingresa tu texto: Hola\n",
      "                                                          Hola\n"
     ]
    }
   ],
   "source": [
    "texto = input(\"Ingresa tu texto: \")\n",
    "EscribirCentrado(texto)"
   ]
  },
  {
   "cell_type": "markdown",
   "metadata": {},
   "source": [
    "**Punto 3**"
   ]
  },
  {
   "cell_type": "code",
   "execution_count": 31,
   "metadata": {},
   "outputs": [
    {
     "name": "stdout",
     "output_type": "stream",
     "text": [
      "**Hola**\n"
     ]
    }
   ],
   "source": [
    "def markdown_decorator(func):\n",
    "    def wrapper(text):\n",
    "        return f\"**{func(text)}**\"\n",
    "    return wrapper\n",
    "\n",
    "@markdown_decorator\n",
    "def my_text(text):\n",
    "    return text\n",
    "\n",
    "print(my_text(\"Hola\"))"
   ]
  },
  {
   "cell_type": "markdown",
   "metadata": {},
   "source": [
    "**Punto 4**"
   ]
  },
  {
   "cell_type": "code",
   "execution_count": 53,
   "metadata": {},
   "outputs": [
    {
     "name": "stdout",
     "output_type": "stream",
     "text": [
      "Ingresa el primer número entero: 3\n",
      "Ingresa el segundo número entero: 7\n",
      "Los numeros ingresados no son multiplos entre si\n"
     ]
    }
   ],
   "source": [
    "# Solicitar al usuario que ingrese dos números enteros\n",
    "num1 = int(input(\"Ingresa el primer número entero: \"))\n",
    "num2 = int(input(\"Ingresa el segundo número entero: \"))\n",
    "\n",
    "if num1%num2==0:\n",
    "    print(num1, \"es multiplo de\", num2)\n",
    "elif num2%num1==0:\n",
    "    print(num2, \"es multiplo de\", num1) \n",
    "else: \n",
    "    print(\"Los numeros ingresados no son multiplos entre si\") \n"
   ]
  },
  {
   "cell_type": "markdown",
   "metadata": {},
   "source": [
    "**Punto 5**"
   ]
  },
  {
   "cell_type": "code",
   "execution_count": 65,
   "metadata": {},
   "outputs": [
    {
     "name": "stdout",
     "output_type": "stream",
     "text": [
      "La temperatura media de Bogotá fue de 15.65 grados Celsius.\n"
     ]
    }
   ],
   "source": [
    "import numpy as np\n",
    "\n",
    "def calcular_temperatura_media(temperaturas):\n",
    "    suma = 0\n",
    "    for temperatura in temperaturas:\n",
    "        suma += temperatura\n",
    "    return suma / len(temperaturas)\n",
    "\n",
    "#temperaturas_bogota = [15, 16, 17, 18, 19, 19, 20, 20, 19, 18, 17, 16, 15, 15, 14, 14, 13, 13, 13, 13, 14, 15, 16, 17]\n",
    "temperaturas_bogota=np.random.normal(loc=15, scale=4, size=24)\n",
    "temperatura_media = calcular_temperatura_media(temperaturas_bogota)\n",
    "print(f\"La temperatura media de Bogotá fue de {round(temperatura_media,2)} grados Celsius.\")\n",
    "\n"
   ]
  },
  {
   "cell_type": "markdown",
   "metadata": {},
   "source": [
    "**Punto 5...**"
   ]
  },
  {
   "cell_type": "code",
   "execution_count": 66,
   "metadata": {},
   "outputs": [],
   "source": [
    "def ConvertirEspaciado(texto):\n",
    "    nuevo_texto = \"\"\n",
    "    for letra in texto:\n",
    "        nuevo_texto += letra + \" \"\n",
    "    return nuevo_texto"
   ]
  },
  {
   "cell_type": "code",
   "execution_count": 68,
   "metadata": {},
   "outputs": [
    {
     "name": "stdout",
     "output_type": "stream",
     "text": [
      "Ingresa tu texto: Kiara\n",
      "K i a r a \n"
     ]
    }
   ],
   "source": [
    "#texto = \"Hola, tú\"\n",
    "texto = input(\"Ingresa tu texto: \")\n",
    "texto_espaciado = ConvertirEspaciado(texto)\n",
    "print(texto_espaciado)"
   ]
  },
  {
   "cell_type": "markdown",
   "metadata": {},
   "source": [
    "**Punto 6**"
   ]
  },
  {
   "cell_type": "code",
   "execution_count": 70,
   "metadata": {},
   "outputs": [],
   "source": [
    "def calcularMaxMin(arr):\n",
    "    max_val = max(arr)\n",
    "    min_val = min(arr)\n",
    "    return max_val, min_val"
   ]
  },
  {
   "cell_type": "code",
   "execution_count": 84,
   "metadata": {},
   "outputs": [
    {
     "name": "stdout",
     "output_type": "stream",
     "text": [
      "Ingresa los numeros separados por un espacio: 10 20 30 40 100\n",
      "Numeros ingresados: [10, 20, 30, 40, 100]\n",
      "El valor máximo es: 100\n",
      "El valor mínimo es: 10\n"
     ]
    }
   ],
   "source": [
    "# Solicitamos al usuario ingresar los elementos del array separados por un espacio\n",
    "elementos = input(\"Ingresa los numeros separados por un espacio: \")\n",
    "\n",
    "# Convertimos los elementos en una lista separando por el espacio\n",
    "lista_elementos = elementos.split()\n",
    "\n",
    "# Convertimos los elementos de la lista en valores numéricos\n",
    "numeros = [int(i) for i in lista_elementos]\n",
    "\n",
    "# Imprimimos el array resultante\n",
    "print(\"Numeros ingresados:\", numeros)\n",
    "\n",
    "maximo, minimo = calcularMaxMin(numeros)\n",
    "print(\"El valor máximo es:\", maximo)\n",
    "print(\"El valor mínimo es:\", minimo)\n",
    "\n",
    "\n"
   ]
  },
  {
   "cell_type": "markdown",
   "metadata": {},
   "source": [
    "**Punto 7**"
   ]
  },
  {
   "cell_type": "code",
   "execution_count": 85,
   "metadata": {},
   "outputs": [],
   "source": [
    "import math\n",
    "\n",
    "def calcular_area_perimetro_circunferencia(radio):\n",
    "    area = math.pi * radio ** 2\n",
    "    perimetro = 2 * math.pi * radio\n",
    "    return area, perimetro"
   ]
  },
  {
   "cell_type": "code",
   "execution_count": 86,
   "metadata": {},
   "outputs": [
    {
     "name": "stdout",
     "output_type": "stream",
     "text": [
      "Ingrese el radio de la circunferencia: 5\n",
      "El área de la circunferencia es: 78.53981633974483\n",
      "El perímetro de la circunferencia es: 31.41592653589793\n"
     ]
    }
   ],
   "source": [
    "radio = float(input(\"Ingrese el radio de la circunferencia: \"))\n",
    "area, perimetro = calcular_area_perimetro_circunferencia(radio)\n",
    "print(\"El área de la circunferencia es:\", area)\n",
    "print(\"El perímetro de la circunferencia es:\", perimetro)"
   ]
  },
  {
   "cell_type": "markdown",
   "metadata": {},
   "source": [
    "**Punto 8**"
   ]
  },
  {
   "cell_type": "code",
   "execution_count": 87,
   "metadata": {},
   "outputs": [],
   "source": [
    "def Login(usuario, contrasena, intentos):\n",
    "    if usuario == \"usuario1\" and contrasena == \"asdasd\":\n",
    "        return True, intentos\n",
    "    else:\n",
    "        intentos += 1\n",
    "        return False, intentos"
   ]
  },
  {
   "cell_type": "code",
   "execution_count": 90,
   "metadata": {},
   "outputs": [
    {
     "name": "stdout",
     "output_type": "stream",
     "text": [
      "Ingresa tu nombre de usuario: fwfsa\n",
      "Ingresa tu contraseña: fafssg\n",
      "Usuario o contraseña incorrectos. Intenta de nuevo.\n",
      "Ingresa tu nombre de usuario: dfasgs\n",
      "Ingresa tu contraseña: r34gr\n",
      "Usuario o contraseña incorrectos. Intenta de nuevo.\n",
      "Ingresa tu nombre de usuario: usuario1\n",
      "Ingresa tu contraseña: asdasd\n",
      "Bienvenido!\n"
     ]
    }
   ],
   "source": [
    "intentos = 0\n",
    "\n",
    "while True:\n",
    "    usuario = input(\"Ingresa tu nombre de usuario: \")\n",
    "    contrasena = input(\"Ingresa tu contraseña: \")\n",
    "    \n",
    "    valido, intentos = Login(usuario, contrasena, intentos)\n",
    "    \n",
    "    if valido:\n",
    "        print(\"Bienvenido!\")\n",
    "        break\n",
    "    else:\n",
    "        print(\"Usuario o contraseña incorrectos. Intenta de nuevo.\")\n",
    "        if intentos >= 5:\n",
    "            print(\"Has excedido el número máximo de intentos. Inténtalo más tarde.\")\n",
    "            break"
   ]
  },
  {
   "cell_type": "markdown",
   "metadata": {},
   "source": [
    "**Punto 9**"
   ]
  },
  {
   "cell_type": "code",
   "execution_count": 91,
   "metadata": {},
   "outputs": [],
   "source": [
    "def factorial(n):\n",
    "    if n == 0:\n",
    "        return 1\n",
    "    else:\n",
    "        return n * factorial(n-1)"
   ]
  },
  {
   "cell_type": "code",
   "execution_count": 96,
   "metadata": {},
   "outputs": [
    {
     "name": "stdout",
     "output_type": "stream",
     "text": [
      "Ingrese un número para calcular su factorial: 4\n",
      "El factorial de 4 es 24.\n"
     ]
    }
   ],
   "source": [
    "numero = int(input(\"Ingrese un número para calcular su factorial: \"))\n",
    "resultado = factorial(numero)\n",
    "print(f\"El factorial de {numero} es {resultado}.\")"
   ]
  },
  {
   "cell_type": "markdown",
   "metadata": {},
   "source": [
    "**Punto 10**\n"
   ]
  },
  {
   "cell_type": "code",
   "execution_count": 97,
   "metadata": {},
   "outputs": [],
   "source": [
    "def segundos_en_tiempo(horas, minutos, segundos):\n",
    "    total_segundos = horas * 3600 + minutos * 60 + segundos\n",
    "    return total_segundos"
   ]
  },
  {
   "cell_type": "code",
   "execution_count": 98,
   "metadata": {},
   "outputs": [],
   "source": [
    "def tiempo_en_segundos(total_segundos):\n",
    "    horas = total_segundos // 3600\n",
    "    minutos = (total_segundos % 3600) // 60\n",
    "    segundos = total_segundos % 60\n",
    "    return horas, minutos, segundos"
   ]
  },
  {
   "cell_type": "code",
   "execution_count": 99,
   "metadata": {},
   "outputs": [
    {
     "name": "stdout",
     "output_type": "stream",
     "text": [
      "9045\n",
      "3 20 0\n"
     ]
    }
   ],
   "source": [
    "# Calcular la cantidad de segundos en 2 horas, 30 minutos y 45 segundos\n",
    "segundos = segundos_en_tiempo(2, 30, 45)\n",
    "print(segundos) \n",
    "\n",
    "# Calcular la cantidad de horas, minutos y segundos en 12000 segundos\n",
    "horas, minutos, segundos = tiempo_en_segundos(12000)\n",
    "print(horas, minutos, segundos) "
   ]
  },
  {
   "cell_type": "markdown",
   "metadata": {},
   "source": [
    "**Punto 11**"
   ]
  },
  {
   "cell_type": "code",
   "execution_count": 102,
   "metadata": {},
   "outputs": [
    {
     "data": {
      "text/plain": [
       "(999, 99, 9)"
      ]
     },
     "execution_count": 102,
     "metadata": {},
     "output_type": "execute_result"
    }
   ],
   "source": [
    "def invertir_tupla(tupla):\n",
    "    return tuple(reversed(tupla))\n",
    "\n",
    "tupla=(9, 99, 999)\n",
    "invertir_tupla(tupla)"
   ]
  },
  {
   "cell_type": "markdown",
   "metadata": {},
   "source": [
    "**Punto 12**"
   ]
  },
  {
   "cell_type": "code",
   "execution_count": 103,
   "metadata": {},
   "outputs": [],
   "source": [
    "import functools\n",
    "import operator\n",
    "\n",
    "def media_geometrica(lista):\n",
    "    producto = functools.reduce(operator.mul, lista)\n",
    "    media = producto ** (1/len(lista))\n",
    "    return media"
   ]
  },
  {
   "cell_type": "code",
   "execution_count": 107,
   "metadata": {},
   "outputs": [
    {
     "name": "stdout",
     "output_type": "stream",
     "text": [
      "257.11\n"
     ]
    }
   ],
   "source": [
    "lista = [32, 243, 334, 874, 495]\n",
    "media_geo = media_geometrica(lista)\n",
    "print(round(media_geo,2))"
   ]
  },
  {
   "cell_type": "code",
   "execution_count": null,
   "metadata": {},
   "outputs": [],
   "source": []
  }
 ],
 "metadata": {
  "kernelspec": {
   "display_name": "Python 3",
   "language": "python",
   "name": "python3"
  },
  "language_info": {
   "codemirror_mode": {
    "name": "ipython",
    "version": 3
   },
   "file_extension": ".py",
   "mimetype": "text/x-python",
   "name": "python",
   "nbconvert_exporter": "python",
   "pygments_lexer": "ipython3",
   "version": "3.8.5"
  }
 },
 "nbformat": 4,
 "nbformat_minor": 4
}
